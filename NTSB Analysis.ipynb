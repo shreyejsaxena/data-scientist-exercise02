{
 "cells": [
  {
   "cell_type": "markdown",
   "metadata": {},
   "source": [
    "Thank you in advance for considering this code sample as a part of my application for the Data Scientist role at RTI.\n",
    "\n",
    "This Jupyter Notebook captures an exploratory analysis of the NTSB's database of aviation accidents. Several different analytic methods are applied to derive insights from the provided data assets: https://www.ntsb.gov/_layouts/ntsb.aviation/index.aspx\n",
    "\n",
    "# Table of Contents\n",
    "0. Extract and load raw data into pandas\n",
    "1. Exploration of seasonality and trend in events\n",
    "2. Latent textual patterns in accident narratives\n",
    "3. Most commonly used words over time\n",
    "4. Modeling fatal vs non-fatal accidents"
   ]
  },
  {
   "cell_type": "code",
   "execution_count": 1,
   "metadata": {},
   "outputs": [],
   "source": [
    "%matplotlib inline\n",
    "import numpy as np\n",
    "import pandas as pd\n",
    "pd.set_option('display.max_rows', 500)\n",
    "pd.set_option('display.max_columns', 500)\n",
    "pd.set_option('display.width', 1000)\n",
    "import xml.etree.ElementTree as ET\n",
    "import json\n",
    "import os\n",
    "import string\n",
    "import datetime\n",
    "import statsmodels.api as sm\n",
    "import matplotlib.pyplot as plt\n",
    "from statsmodels.tsa.seasonal import seasonal_decompose\n",
    "import nltk\n",
    "from sklearn.feature_extraction.text import TfidfVectorizer\n",
    "from sklearn.decomposition import TruncatedSVD"
   ]
  },
  {
   "cell_type": "markdown",
   "metadata": {},
   "source": [
    "## 0. Extract raw data\n",
    "Throughout this notebook, data will be postured for individual analyses by referencing an `all_data` dataframe. These cells capture the simple ETL process for getting the XML database and json text into a single pandas dataframe."
   ]
  },
  {
   "cell_type": "code",
   "execution_count": 2,
   "metadata": {},
   "outputs": [],
   "source": [
    "# Path to a folder that contains the XML file and all of the narrative JSON files\n",
    "data_path = 'C:\\\\Users\\\\Shreye\\\\Documents\\\\data-scientist-exercise02\\\\data\\\\'"
   ]
  },
  {
   "cell_type": "code",
   "execution_count": 3,
   "metadata": {},
   "outputs": [
    {
     "data": {
      "text/plain": [
       "(77257, 31)"
      ]
     },
     "execution_count": 3,
     "metadata": {},
     "output_type": "execute_result"
    }
   ],
   "source": [
    "# Load XML file into dataframe\n",
    "# https://stackoverflow.com/questions/41795198/more-efficient-conversion-of-xml-file-into-dataframe.\n",
    "etree = ET.parse(data_path + 'AviationData.xml') \n",
    "data = []\n",
    "for el in etree.iterfind('./*'):\n",
    "    for i in el.iterfind('*'):\n",
    "        data.append(dict(i.items()))       \n",
    "aviation = pd.DataFrame(data)\n",
    "aviation.shape"
   ]
  },
  {
   "cell_type": "code",
   "execution_count": 4,
   "metadata": {},
   "outputs": [
    {
     "data": {
      "text/plain": [
       "(76133, 3)"
      ]
     },
     "execution_count": 4,
     "metadata": {},
     "output_type": "execute_result"
    }
   ],
   "source": [
    "# Load JSON files into dataframe\n",
    "narrative = pd.DataFrame()\n",
    "all_jsons = [file for file in os.listdir(data_path) if file!='AviationData.xml'] # get a list of all of the JSON file names\n",
    "for json_name in all_jsons:\n",
    "    with open(data_path+json_name) as json_file: # read each JSON into a dataframe\n",
    "        json_content = json_file.read()\n",
    "        json_data = json.loads(json_content)\n",
    "        json_df = pd.DataFrame(json_data['data']) # the \"dataframe\" is within the 'data' field of the JSON file\n",
    "        narrative = pd.concat([narrative, json_df]) # concatenate all of the JSON dataframes\n",
    "narrative.shape"
   ]
  },
  {
   "cell_type": "code",
   "execution_count": 5,
   "metadata": {},
   "outputs": [
    {
     "data": {
      "text/html": [
       "<div>\n",
       "<style scoped>\n",
       "    .dataframe tbody tr th:only-of-type {\n",
       "        vertical-align: middle;\n",
       "    }\n",
       "\n",
       "    .dataframe tbody tr th {\n",
       "        vertical-align: top;\n",
       "    }\n",
       "\n",
       "    .dataframe thead th {\n",
       "        text-align: right;\n",
       "    }\n",
       "</style>\n",
       "<table border=\"1\" class=\"dataframe\">\n",
       "  <thead>\n",
       "    <tr style=\"text-align: right;\">\n",
       "      <th></th>\n",
       "      <th>AccidentNumber</th>\n",
       "      <th>AirCarrier</th>\n",
       "      <th>AircraftCategory</th>\n",
       "      <th>AircraftDamage</th>\n",
       "      <th>AirportCode</th>\n",
       "      <th>AirportName</th>\n",
       "      <th>AmateurBuilt</th>\n",
       "      <th>BroadPhaseOfFlight</th>\n",
       "      <th>Country</th>\n",
       "      <th>EngineType</th>\n",
       "      <th>EventDate</th>\n",
       "      <th>EventId</th>\n",
       "      <th>FARDescription</th>\n",
       "      <th>InjurySeverity</th>\n",
       "      <th>InvestigationType</th>\n",
       "      <th>Latitude</th>\n",
       "      <th>Location</th>\n",
       "      <th>Longitude</th>\n",
       "      <th>Make</th>\n",
       "      <th>Model</th>\n",
       "      <th>NumberOfEngines</th>\n",
       "      <th>PublicationDate</th>\n",
       "      <th>PurposeOfFlight</th>\n",
       "      <th>RegistrationNumber</th>\n",
       "      <th>ReportStatus</th>\n",
       "      <th>Schedule</th>\n",
       "      <th>TotalFatalInjuries</th>\n",
       "      <th>TotalMinorInjuries</th>\n",
       "      <th>TotalSeriousInjuries</th>\n",
       "      <th>TotalUninjured</th>\n",
       "      <th>WeatherCondition</th>\n",
       "      <th>narrative</th>\n",
       "      <th>probable_cause</th>\n",
       "    </tr>\n",
       "  </thead>\n",
       "  <tbody>\n",
       "    <tr>\n",
       "      <th>count</th>\n",
       "      <td>77257</td>\n",
       "      <td>77257</td>\n",
       "      <td>77257</td>\n",
       "      <td>77257</td>\n",
       "      <td>77257</td>\n",
       "      <td>77257</td>\n",
       "      <td>77257</td>\n",
       "      <td>77257</td>\n",
       "      <td>77257</td>\n",
       "      <td>77257</td>\n",
       "      <td>77257</td>\n",
       "      <td>77257</td>\n",
       "      <td>77257</td>\n",
       "      <td>77257</td>\n",
       "      <td>77257</td>\n",
       "      <td>77257</td>\n",
       "      <td>77257</td>\n",
       "      <td>77257</td>\n",
       "      <td>77257</td>\n",
       "      <td>77257</td>\n",
       "      <td>77257</td>\n",
       "      <td>77257</td>\n",
       "      <td>77257</td>\n",
       "      <td>77257</td>\n",
       "      <td>77257</td>\n",
       "      <td>77257</td>\n",
       "      <td>77257</td>\n",
       "      <td>77257</td>\n",
       "      <td>77257</td>\n",
       "      <td>77257</td>\n",
       "      <td>77257</td>\n",
       "      <td>77257</td>\n",
       "      <td>77257</td>\n",
       "    </tr>\n",
       "    <tr>\n",
       "      <th>unique</th>\n",
       "      <td>77257</td>\n",
       "      <td>2814</td>\n",
       "      <td>13</td>\n",
       "      <td>4</td>\n",
       "      <td>9489</td>\n",
       "      <td>22284</td>\n",
       "      <td>3</td>\n",
       "      <td>13</td>\n",
       "      <td>174</td>\n",
       "      <td>15</td>\n",
       "      <td>12180</td>\n",
       "      <td>76133</td>\n",
       "      <td>17</td>\n",
       "      <td>120</td>\n",
       "      <td>2</td>\n",
       "      <td>16343</td>\n",
       "      <td>24702</td>\n",
       "      <td>17471</td>\n",
       "      <td>7204</td>\n",
       "      <td>11029</td>\n",
       "      <td>8</td>\n",
       "      <td>3403</td>\n",
       "      <td>23</td>\n",
       "      <td>67493</td>\n",
       "      <td>4</td>\n",
       "      <td>4</td>\n",
       "      <td>118</td>\n",
       "      <td>63</td>\n",
       "      <td>41</td>\n",
       "      <td>364</td>\n",
       "      <td>4</td>\n",
       "      <td>75557</td>\n",
       "      <td>47435</td>\n",
       "    </tr>\n",
       "    <tr>\n",
       "      <th>top</th>\n",
       "      <td>LAX05LA069</td>\n",
       "      <td></td>\n",
       "      <td></td>\n",
       "      <td>Substantial</td>\n",
       "      <td></td>\n",
       "      <td></td>\n",
       "      <td>No</td>\n",
       "      <td>LANDING</td>\n",
       "      <td>United States</td>\n",
       "      <td>Reciprocating</td>\n",
       "      <td>07/08/2000</td>\n",
       "      <td>20101022X34140</td>\n",
       "      <td></td>\n",
       "      <td>Non-Fatal</td>\n",
       "      <td>Accident</td>\n",
       "      <td></td>\n",
       "      <td>ANCHORAGE, AK</td>\n",
       "      <td></td>\n",
       "      <td>CESSNA</td>\n",
       "      <td>152</td>\n",
       "      <td>1</td>\n",
       "      <td></td>\n",
       "      <td>Personal</td>\n",
       "      <td></td>\n",
       "      <td>Probable Cause</td>\n",
       "      <td></td>\n",
       "      <td>0</td>\n",
       "      <td>0</td>\n",
       "      <td>0</td>\n",
       "      <td>1</td>\n",
       "      <td>VMC</td>\n",
       "      <td></td>\n",
       "      <td></td>\n",
       "    </tr>\n",
       "    <tr>\n",
       "      <th>freq</th>\n",
       "      <td>1</td>\n",
       "      <td>73439</td>\n",
       "      <td>60737</td>\n",
       "      <td>55420</td>\n",
       "      <td>33780</td>\n",
       "      <td>29926</td>\n",
       "      <td>69198</td>\n",
       "      <td>18553</td>\n",
       "      <td>73076</td>\n",
       "      <td>63016</td>\n",
       "      <td>25</td>\n",
       "      <td>3</td>\n",
       "      <td>60592</td>\n",
       "      <td>58499</td>\n",
       "      <td>74207</td>\n",
       "      <td>53496</td>\n",
       "      <td>372</td>\n",
       "      <td>53505</td>\n",
       "      <td>16609</td>\n",
       "      <td>2251</td>\n",
       "      <td>61465</td>\n",
       "      <td>13188</td>\n",
       "      <td>43360</td>\n",
       "      <td>2756</td>\n",
       "      <td>72264</td>\n",
       "      <td>65878</td>\n",
       "      <td>40363</td>\n",
       "      <td>40342</td>\n",
       "      <td>42955</td>\n",
       "      <td>22029</td>\n",
       "      <td>68764</td>\n",
       "      <td>231</td>\n",
       "      <td>26754</td>\n",
       "    </tr>\n",
       "  </tbody>\n",
       "</table>\n",
       "</div>"
      ],
      "text/plain": [
       "       AccidentNumber AirCarrier AircraftCategory AircraftDamage AirportCode AirportName AmateurBuilt BroadPhaseOfFlight        Country     EngineType   EventDate         EventId FARDescription InjurySeverity InvestigationType Latitude       Location Longitude    Make  Model NumberOfEngines PublicationDate PurposeOfFlight RegistrationNumber    ReportStatus Schedule TotalFatalInjuries TotalMinorInjuries TotalSeriousInjuries TotalUninjured WeatherCondition narrative probable_cause\n",
       "count           77257      77257            77257          77257       77257       77257        77257              77257          77257          77257       77257           77257          77257          77257             77257    77257          77257     77257   77257  77257           77257           77257           77257              77257           77257    77257              77257              77257                77257          77257            77257     77257          77257\n",
       "unique          77257       2814               13              4        9489       22284            3                 13            174             15       12180           76133             17            120                 2    16343          24702     17471    7204  11029               8            3403              23              67493               4        4                118                 63                   41            364                4     75557          47435\n",
       "top        LAX05LA069                                Substantial                                   No            LANDING  United States  Reciprocating  07/08/2000  20101022X34140                     Non-Fatal          Accident           ANCHORAGE, AK            CESSNA    152               1                        Personal                     Probable Cause                           0                  0                    0              1              VMC                         \n",
       "freq                1      73439            60737          55420       33780       29926        69198              18553          73076          63016          25               3          60592          58499             74207    53496            372     53505   16609   2251           61465           13188           43360               2756           72264    65878              40363              40342                42955          22029            68764       231          26754"
      ]
     },
     "execution_count": 5,
     "metadata": {},
     "output_type": "execute_result"
    }
   ],
   "source": [
    "# Merge the dataframes on the common EventId field\n",
    "all_data = aviation.merge(narrative, how='left')\n",
    "all_data.shape\n",
    "all_data.describe()"
   ]
  },
  {
   "cell_type": "markdown",
   "metadata": {},
   "source": [
    "> From all accidents, the most commmon phase of flight is LANDING and the most common aircraft is a Cessna 152"
   ]
  },
  {
   "cell_type": "code",
   "execution_count": 6,
   "metadata": {},
   "outputs": [
    {
     "data": {
      "text/html": [
       "<div>\n",
       "<style scoped>\n",
       "    .dataframe tbody tr th:only-of-type {\n",
       "        vertical-align: middle;\n",
       "    }\n",
       "\n",
       "    .dataframe tbody tr th {\n",
       "        vertical-align: top;\n",
       "    }\n",
       "\n",
       "    .dataframe thead th {\n",
       "        text-align: right;\n",
       "    }\n",
       "</style>\n",
       "<table border=\"1\" class=\"dataframe\">\n",
       "  <thead>\n",
       "    <tr style=\"text-align: right;\">\n",
       "      <th></th>\n",
       "      <th>TotalFatalInjuries</th>\n",
       "      <th>TotalMinorInjuries</th>\n",
       "      <th>TotalSeriousInjuries</th>\n",
       "      <th>TotalUninjured</th>\n",
       "      <th>passengers</th>\n",
       "    </tr>\n",
       "  </thead>\n",
       "  <tbody>\n",
       "    <tr>\n",
       "      <th>count</th>\n",
       "      <td>55791.000000</td>\n",
       "      <td>54733.000000</td>\n",
       "      <td>53744.000000</td>\n",
       "      <td>65862.000000</td>\n",
       "      <td>49951.000000</td>\n",
       "    </tr>\n",
       "    <tr>\n",
       "      <th>mean</th>\n",
       "      <td>0.788962</td>\n",
       "      <td>0.492555</td>\n",
       "      <td>0.309895</td>\n",
       "      <td>5.716817</td>\n",
       "      <td>5.284459</td>\n",
       "    </tr>\n",
       "    <tr>\n",
       "      <th>std</th>\n",
       "      <td>6.087442</td>\n",
       "      <td>2.779814</td>\n",
       "      <td>1.368488</td>\n",
       "      <td>29.052413</td>\n",
       "      <td>24.703211</td>\n",
       "    </tr>\n",
       "    <tr>\n",
       "      <th>min</th>\n",
       "      <td>0.000000</td>\n",
       "      <td>0.000000</td>\n",
       "      <td>0.000000</td>\n",
       "      <td>0.000000</td>\n",
       "      <td>0.000000</td>\n",
       "    </tr>\n",
       "    <tr>\n",
       "      <th>25%</th>\n",
       "      <td>0.000000</td>\n",
       "      <td>0.000000</td>\n",
       "      <td>0.000000</td>\n",
       "      <td>0.000000</td>\n",
       "      <td>1.000000</td>\n",
       "    </tr>\n",
       "    <tr>\n",
       "      <th>50%</th>\n",
       "      <td>0.000000</td>\n",
       "      <td>0.000000</td>\n",
       "      <td>0.000000</td>\n",
       "      <td>1.000000</td>\n",
       "      <td>2.000000</td>\n",
       "    </tr>\n",
       "    <tr>\n",
       "      <th>75%</th>\n",
       "      <td>1.000000</td>\n",
       "      <td>1.000000</td>\n",
       "      <td>0.000000</td>\n",
       "      <td>2.000000</td>\n",
       "      <td>2.000000</td>\n",
       "    </tr>\n",
       "    <tr>\n",
       "      <th>max</th>\n",
       "      <td>349.000000</td>\n",
       "      <td>380.000000</td>\n",
       "      <td>111.000000</td>\n",
       "      <td>699.000000</td>\n",
       "      <td>528.000000</td>\n",
       "    </tr>\n",
       "  </tbody>\n",
       "</table>\n",
       "</div>"
      ],
      "text/plain": [
       "       TotalFatalInjuries  TotalMinorInjuries  TotalSeriousInjuries  TotalUninjured    passengers\n",
       "count        55791.000000        54733.000000          53744.000000    65862.000000  49951.000000\n",
       "mean             0.788962            0.492555              0.309895        5.716817      5.284459\n",
       "std              6.087442            2.779814              1.368488       29.052413     24.703211\n",
       "min              0.000000            0.000000              0.000000        0.000000      0.000000\n",
       "25%              0.000000            0.000000              0.000000        0.000000      1.000000\n",
       "50%              0.000000            0.000000              0.000000        1.000000      2.000000\n",
       "75%              1.000000            1.000000              0.000000        2.000000      2.000000\n",
       "max            349.000000          380.000000            111.000000      699.000000    528.000000"
      ]
     },
     "execution_count": 6,
     "metadata": {},
     "output_type": "execute_result"
    }
   ],
   "source": [
    "all_data['TotalFatalInjuries'] = pd.to_numeric(all_data.TotalFatalInjuries, errors='coerce')\n",
    "all_data['TotalMinorInjuries'] = pd.to_numeric(all_data.TotalMinorInjuries, errors='coerce')\n",
    "all_data['TotalSeriousInjuries'] = pd.to_numeric(all_data.TotalSeriousInjuries, errors='coerce')\n",
    "all_data['TotalUninjured'] = pd.to_numeric(all_data.TotalUninjured, errors='coerce')\n",
    "all_data['passengers'] = all_data.TotalUninjured + all_data.TotalSeriousInjuries + all_data.TotalMinorInjuries + all_data.TotalFatalInjuries\n",
    "all_data.describe()"
   ]
  },
  {
   "cell_type": "markdown",
   "metadata": {},
   "source": [
    "> Average number of passengers on flights that have accidents is 5.28, so not typically commercial airliners"
   ]
  },
  {
   "cell_type": "markdown",
   "metadata": {},
   "source": [
    "# 1. Exploration of seasonality and trend in events\n",
    "A time series can be obtained by counting the number of events that occur monthly. A time series decomposition can help describe any overarching seasonality or trend in the number of accidents and incidents that occur over the timeframe of analysis. "
   ]
  },
  {
   "cell_type": "code",
   "execution_count": 7,
   "metadata": {},
   "outputs": [
    {
     "data": {
      "image/png": "[encoded data removed]",
      "text/plain": [
       "<Figure size 432x288 with 4 Axes>"
      ]
     },
     "execution_count": 7,
     "metadata": {},
     "output_type": "execute_result"
    },
    {
     "data": {
      "image/png": "[encoded data removed]",
      "text/plain": [
       "<Figure size 432x288 with 4 Axes>"
      ]
     },
     "metadata": {
      "needs_background": "light"
     },
     "output_type": "display_data"
    }
   ],
   "source": [
    "ntsb = all_data.copy()\n",
    "\n",
    "# set a datetime index of the EventDate to \n",
    "ntsb = ntsb[['EventDate', 'AccidentNumber', 'passengers']]\n",
    "ntsb['EventDate'] = pd.to_datetime(ntsb['EventDate'], format=\"%m/%d/%Y\", errors='coerce')\n",
    "ntsb.dropna(subset=['EventDate'], inplace=True)\n",
    "ntsb.index = ntsb['EventDate']\n",
    "\n",
    "# remove entries before 1982 and after 2014 so we're working with full years of data\n",
    "ntsb = ntsb[(ntsb.EventDate >= pd.to_datetime('1982-01-01'))&(ntsb.EventDate < pd.to_datetime('2015-01-01'))]\n",
    "\n",
    "# Aggregate the counts of incidents by month\n",
    "ntsb_ts = ntsb.resample('M').count()['AccidentNumber']\n",
    "ntsb_ts.head(24) # summer months appear to have nearly double the incidents as winter months\n",
    "\n",
    "# Seasonal decomposition as an additive model\n",
    "# https://machinelearningmastery.com/decompose-time-series-data-trend-seasonality/\n",
    "result = seasonal_decompose(ntsb_ts, model='additive', extrapolate_trend='freq')\n",
    "result.plot()"
   ]
  },
  {
   "cell_type": "code",
   "execution_count": 8,
   "metadata": {},
   "outputs": [
    {
     "data": {
      "text/plain": [
       "-5.300054743236557"
      ]
     },
     "execution_count": 8,
     "metadata": {},
     "output_type": "execute_result"
    }
   ],
   "source": [
    "# On average, what is the trend over time timeframe of analysis?\n",
    "(result.trend.min() - result.trend.max())/(2015-1982)"
   ]
  },
  {
   "cell_type": "code",
   "execution_count": 9,
   "metadata": {},
   "outputs": [
    {
     "data": {
      "text/plain": [
       "150.40237014668833"
      ]
     },
     "execution_count": 9,
     "metadata": {},
     "output_type": "execute_result"
    }
   ],
   "source": [
    "# What is the maximum difference between a season?\n",
    "result.seasonal.max() - result.seasonal.min()"
   ]
  },
  {
   "cell_type": "markdown",
   "metadata": {},
   "source": [
    "> From 1982-2015 on average there are 5.3 fewer accidents every year, although there are ~150 more accidents in summer than winter"
   ]
  },
  {
   "cell_type": "markdown",
   "metadata": {},
   "source": [
    "Here we try to visualize the fact that most accidents involve small flights (fewer than 20 passengers, for example)"
   ]
  },
  {
   "cell_type": "code",
   "execution_count": 10,
   "metadata": {},
   "outputs": [
    {
     "data": {
      "image/png": "[encoded data removed]",
      "text/plain": [
       "<Figure size 864x360 with 1 Axes>"
      ]
     },
     "metadata": {
      "needs_background": "light"
     },
     "output_type": "display_data"
    }
   ],
   "source": [
    "large_flight_size = 20\n",
    "\n",
    "# Split the dataframe into \"large accidents\" and \"small accidents\" based on the defined large flight size\n",
    "ntsb.passengers.fillna(ntsb.passengers.mean(), inplace=True)\n",
    "large_accidents = ntsb[ntsb.passengers >= large_flight_size]\n",
    "small_accidents = ntsb[ntsb.passengers < large_flight_size]\n",
    "\n",
    "# Obtain a count of incidents by month\n",
    "large_accidents_ts = large_accidents.resample('M').count()['AccidentNumber']\n",
    "small_accidents_ts = small_accidents.resample('M').count()['AccidentNumber']\n",
    "\n",
    "# Plot both on the same figure\n",
    "plt.figure(figsize=(12,5))\n",
    "\n",
    "ax1 = large_accidents_ts.plot(color='darkcyan', label='20 or more passengers')\n",
    "ax2 = small_accidents_ts.plot(color='salmon', label='Fewer than 20 passengers')\n",
    "\n",
    "h1, l1 = ax1.get_legend_handles_labels()\n",
    "h2, l2 = ax2.get_legend_handles_labels()\n",
    "\n",
    "plt.title('Monthly Aircraft Accidents (1982-2014)')\n",
    "plt.xlabel('Date')\n",
    "plt.ylabel('Number of Events')\n",
    "\n",
    "plt.legend(h1, l1, loc='upper right')\n",
    "plt.show()"
   ]
  },
  {
   "cell_type": "markdown",
   "metadata": {},
   "source": [
    "# 2. Latent textual patterns in accident narratives\n",
    "Unsupervised methods of analyzing text can uncover latent patterns in the event narratives. After cleaning the text and removing stopwords, we attempt to extract insight through Latent Semantic Analysis. LSA performs Singular Value Decomposition on the TF-IDF matrix to uncover similarities within the documents and represent them as topics.  https://www.analyticsvidhya.com/blog/2018/10/stepwise-guide-topic-modeling-latent-semantic-analysis/\n",
    "\n",
    "LSA is faster and easier to implement than a K-means solution. We do this separately for small and large flights to see what comparisons can be made between resulting topics"
   ]
  },
  {
   "cell_type": "code",
   "execution_count": 11,
   "metadata": {},
   "outputs": [
    {
     "data": {
      "text/plain": [
       "(77026, 4)"
      ]
     },
     "execution_count": 11,
     "metadata": {},
     "output_type": "execute_result"
    }
   ],
   "source": [
    "ntsb = all_data.copy()\n",
    "\n",
    "# remove any event that doesnt have a narrative\n",
    "ntsb = ntsb[['AccidentNumber', 'EventDate', 'narrative', 'passengers']]\n",
    "ntsb= ntsb[ntsb['narrative'] != '']\n",
    "ntsb.reset_index(inplace=True, drop=True)\n",
    "ntsb.shape"
   ]
  },
  {
   "cell_type": "code",
   "execution_count": 12,
   "metadata": {},
   "outputs": [],
   "source": [
    "# Remove punctuation and digits from the text and convert to all lowercase\n",
    "ntsb.narrative = ntsb.narrative.apply(lambda x: x.lower())\n",
    "ntsb.narrative = ntsb.narrative.apply(lambda x: x.translate(str.maketrans('','',string.punctuation)))\n",
    "ntsb.narrative = ntsb.narrative.apply(lambda x: x.translate(str.maketrans('','',string.digits)))"
   ]
  },
  {
   "cell_type": "code",
   "execution_count": 13,
   "metadata": {},
   "outputs": [
    {
     "name": "stderr",
     "output_type": "stream",
     "text": [
      "[nltk_data] Downloading package stopwords to\n",
      "[nltk_data]     C:\\Users\\Shreye\\AppData\\Roaming\\nltk_data...\n",
      "[nltk_data]   Package stopwords is already up-to-date!\n"
     ]
    }
   ],
   "source": [
    "# get english stop words (plus a few commonly expected words)\n",
    "nltk.download('stopwords')\n",
    "stopwords = nltk.corpus.stopwords.words('english')\n",
    "stopwords.append('federal')\n",
    "stopwords.append('aviation')\n",
    "stopwords.append('administration')\n",
    "stopwords.append('foreign')\n",
    "stopwords.append('authority')\n",
    "stopwords.append('information')\n",
    "\n",
    "# remove stopwords from the narratives\n",
    "tokenized_doc = ntsb['narrative'].apply(lambda x: x.split())\n",
    "tokenized_doc = tokenized_doc.apply(lambda x: [item for item in x if item not in stopwords])\n",
    "detokenized_doc = []\n",
    "for i in range(len(ntsb)):\n",
    "    text = ' '.join(tokenized_doc[i])\n",
    "    detokenized_doc.append(text)\n",
    "ntsb['narrative'] = detokenized_doc"
   ]
  },
  {
   "cell_type": "code",
   "execution_count": 14,
   "metadata": {},
   "outputs": [
    {
     "name": "stdout",
     "output_type": "stream",
     "text": [
      "(1322, 4)\n",
      "(75704, 4)\n"
     ]
    }
   ],
   "source": [
    "large_flight_size = 20\n",
    "\n",
    "# split dataset into \"large flights\" and \"small flights\", imputing the average for missing values\n",
    "ntsb['passengers'].fillna(ntsb.passengers.mean(), inplace=True)\n",
    "\n",
    "large_flights = ntsb[ntsb.passengers >= large_flight_size]\n",
    "print(large_flights.shape)\n",
    "\n",
    "small_flights = ntsb[ntsb.passengers < large_flight_size]\n",
    "print(small_flights.shape)"
   ]
  },
  {
   "cell_type": "markdown",
   "metadata": {},
   "source": [
    "First get LSA topics for large flights..."
   ]
  },
  {
   "cell_type": "code",
   "execution_count": 15,
   "metadata": {},
   "outputs": [],
   "source": [
    "# obtain the Tfidf matrix \n",
    "vectorizer = TfidfVectorizer(stop_words='english', max_features=1000, max_df=.5, smooth_idf=True)\n",
    "tf_idf = vectorizer.fit_transform(large_flights.narrative)\n",
    "terms = vectorizer.get_feature_names()"
   ]
  },
  {
   "cell_type": "code",
   "execution_count": 16,
   "metadata": {},
   "outputs": [
    {
     "name": "stdout",
     "output_type": "stream",
     "text": [
      "Topic 0: \n",
      "['flight', 'airplane', 'turbulence', 'engine', 'landing', 'crew', 'runway']\n",
      "Topic 1: \n",
      "['flight', 'turbulence', 'encountered', 'seat', 'attendant', 'attendants', 'belt']\n",
      "Topic 2: \n",
      "['flt', 'rwy', 'acft', 'ctlr', 'apch', 'ft', 'fl']\n",
      "Topic 3: \n",
      "['source', 'runway', 'international', 'flight', 'time', 'approach', 'airport']\n",
      "Topic 4: \n",
      "['source', 'engine', 'turbine', 'flt', 'fuel', 'stage', 'failure']\n",
      "Topic 5: \n",
      "['gear', 'source', 'landing', 'main', 'nose', 'turbulence', 'seat']\n",
      "Topic 6: \n",
      "['flight', 'international', 'gear', 'airport', 'flt', 'plan', 'time']\n",
      "Topic 7: \n",
      "['tug', 'door', 'gate', 'wing', 'ground', 'flt', 'driver']\n",
      "Topic 8: \n",
      "['rwy', 'acft', 'eng', 'apch', 'passengers', 'flight', 'passenger']\n",
      "Topic 9: \n",
      "['door', 'smoke', 'apu', 'evacuation', 'emergency', 'airplane', 'control']\n"
     ]
    }
   ],
   "source": [
    "# perform SVD to identify term similarities between documents\n",
    "svd_model = TruncatedSVD(n_components=10, algorithm='randomized', n_iter=100) # results in top 10 topics\n",
    "svd_model.fit(tf_idf)\n",
    "\n",
    "\n",
    "for i, comp in enumerate(svd_model.components_):\n",
    "    terms_comp = zip(terms, comp)\n",
    "    sorted_terms = sorted(terms_comp, key= lambda x:x[1], reverse=True)[:7]\n",
    "    print(\"Topic \"+str(i)+\": \")\n",
    "    print([t[0] for t in sorted_terms])"
   ]
  },
  {
   "cell_type": "markdown",
   "metadata": {},
   "source": [
    "> Large flight narratives emphasize turbulence, mechanical components, and landing issues"
   ]
  },
  {
   "cell_type": "code",
   "execution_count": 17,
   "metadata": {},
   "outputs": [],
   "source": [
    "# obtain the Tfidf matrix \n",
    "vectorizer = TfidfVectorizer(stop_words='english', max_features=1000, max_df=.5, smooth_idf=True)\n",
    "tf_idf = vectorizer.fit_transform(small_flights.narrative)\n",
    "terms = vectorizer.get_feature_names()"
   ]
  },
  {
   "cell_type": "code",
   "execution_count": 18,
   "metadata": {},
   "outputs": [
    {
     "name": "stdout",
     "output_type": "stream",
     "text": [
      "Topic 0: \n",
      "['airplane', 'runway', 'engine', 'fuel', 'left', 'flight', 'right']\n",
      "Topic 1: \n",
      "['fuel', 'acft', 'plt', 'engine', 'tank', 'eng', 'rwy']\n",
      "Topic 2: \n",
      "['acft', 'plt', 'rwy', 'ft', 'flt', 'gear', 'wind']\n",
      "Topic 3: \n",
      "['flight', 'helicopter', 'source', 'time', 'conditions', 'informationon', 'injured']\n",
      "Topic 4: \n",
      "['helicopter', 'rotor', 'engine', 'tail', 'gear', 'main', 'power']\n",
      "Topic 5: \n",
      "['fuel', 'source', 'helicopter', 'gear', 'flight', 'informationon', 'tank']\n",
      "Topic 6: \n",
      "['gear', 'engine', 'source', 'power', 'oil', 'nose', 'collapsed']\n",
      "Topic 7: \n",
      "['gear', 'main', 'obtained', 'work', 'significant', 'investigative', 'conducted']\n",
      "Topic 8: \n",
      "['airplane', 'entities', 'andor', 'operator', 'limited', 'including', 'damage']\n",
      "Topic 9: \n",
      "['student', 'instructor', 'flight', 'gear', 'cfi', 'nose', 'approach']\n"
     ]
    }
   ],
   "source": [
    "# perform SVD to identify term similarities between documents\n",
    "svd_model = TruncatedSVD(n_components=10, algorithm='randomized', n_iter=100)\n",
    "svd_model.fit(tf_idf)\n",
    "\n",
    "\n",
    "for i, comp in enumerate(svd_model.components_):\n",
    "    terms_comp = zip(terms, comp)\n",
    "    sorted_terms = sorted(terms_comp, key= lambda x:x[1], reverse=True)[:7]\n",
    "    print(\"Topic \"+str(i)+\": \")\n",
    "    print([t[0] for t in sorted_terms])"
   ]
  },
  {
   "cell_type": "markdown",
   "metadata": {},
   "source": [
    "> Small flight narratives emphasize fuel, helicopters, and instructional flights"
   ]
  },
  {
   "cell_type": "markdown",
   "metadata": {},
   "source": [
    "Here we repeat the same text analysis methods as above except on the probable_cause field"
   ]
  },
  {
   "cell_type": "code",
   "execution_count": 19,
   "metadata": {},
   "outputs": [
    {
     "data": {
      "text/plain": [
       "(50503, 4)"
      ]
     },
     "execution_count": 19,
     "metadata": {},
     "output_type": "execute_result"
    }
   ],
   "source": [
    "ntsb = all_data.copy()\n",
    "\n",
    "# remove any event that doesnt have a narrative\n",
    "ntsb = ntsb[['AccidentNumber', 'EventDate', 'probable_cause', 'passengers']]\n",
    "ntsb= ntsb[ntsb['probable_cause'] != '']\n",
    "ntsb.reset_index(inplace=True, drop=True)\n",
    "ntsb.shape"
   ]
  },
  {
   "cell_type": "code",
   "execution_count": 20,
   "metadata": {},
   "outputs": [],
   "source": [
    "# Remove parentheses and digits from the text and convert to all lowercase\n",
    "ntsb.probable_cause = ntsb.probable_cause.apply(lambda x: x.lower())\n",
    "ntsb.probable_cause = ntsb.probable_cause.apply(lambda x: x.translate(str.maketrans('','',string.punctuation)))\n",
    "ntsb.probable_cause = ntsb.probable_cause.apply(lambda x: x.translate(str.maketrans('','',string.digits)))"
   ]
  },
  {
   "cell_type": "code",
   "execution_count": 21,
   "metadata": {},
   "outputs": [],
   "source": [
    "stopwords = nltk.corpus.stopwords.words('english')\n",
    "stopwords.append('federal')\n",
    "stopwords.append('aviation')\n",
    "stopwords.append('administration')\n",
    "stopwords.append('foreign')\n",
    "stopwords.append('authority')\n",
    "stopwords.append('information')\n",
    "\n",
    "# remove stopwords from the text\n",
    "tokenized_doc = ntsb['probable_cause'].apply(lambda x: x.split())\n",
    "tokenized_doc = tokenized_doc.apply(lambda x: [item for item in x if item not in stopwords])\n",
    "detokenized_doc = []\n",
    "for i in range(len(ntsb)):\n",
    "    text = ' '.join(tokenized_doc[i])\n",
    "    detokenized_doc.append(text)\n",
    "ntsb['probable_cause'] = detokenized_doc"
   ]
  },
  {
   "cell_type": "code",
   "execution_count": 22,
   "metadata": {},
   "outputs": [
    {
     "name": "stdout",
     "output_type": "stream",
     "text": [
      "(767, 4)\n",
      "(49736, 4)\n"
     ]
    }
   ],
   "source": [
    "# split dataset into \"large flights\" and \"small flights\", imputing the average for missing values\n",
    "large_flight_size = 20\n",
    "ntsb['passengers'].fillna(ntsb.passengers.mean(), inplace=True)\n",
    "\n",
    "large_flights = ntsb[ntsb.passengers >= large_flight_size]\n",
    "print(large_flights.shape)\n",
    "\n",
    "small_flights = ntsb[ntsb.passengers < large_flight_size]\n",
    "print(small_flights.shape)"
   ]
  },
  {
   "cell_type": "code",
   "execution_count": 23,
   "metadata": {},
   "outputs": [
    {
     "name": "stdout",
     "output_type": "stream",
     "text": [
      "Topic 0: \n",
      "['turbulence', 'encounter', 'clear', 'air', 'flight', 'inflight', 'factor']\n",
      "Topic 1: \n",
      "['turbulence', 'encounter', 'clear', 'air', 'inflight', 'unforecast', 'unexpected']\n",
      "Topic 2: \n",
      "['gear', 'landing', 'main', 'maintenance', 'fatigue', 'right', 'wheel']\n",
      "Topic 3: \n",
      "['clear', 'air', 'controller', 'local', 'clearance', 'controllers', 'aircraft']\n",
      "Topic 4: \n",
      "['maintenance', 'personnel', 'inadequate', 'company', 'inspection', 'engine', 'operator']\n",
      "Topic 5: \n",
      "['inflight', 'encounter', 'maintenance', 'personnel', 'company', 'clearance', 'inadequate']\n",
      "Topic 6: \n",
      "['inflight', 'engine', 'encounter', 'turbine', 'pressure', 'controller', 'high']\n",
      "Topic 7: \n",
      "['improper', 'control', 'elevator', 'runway', 'pilots', 'use', 'factors']\n",
      "Topic 8: \n",
      "['controller', 'flight', 'local', 'separation', 'maintenance', 'improper', 'controllers']\n",
      "Topic 9: \n",
      "['improper', 'evacuation', 'use', 'captain', 'clearance', 'undetermined', 'reasons']\n"
     ]
    }
   ],
   "source": [
    "# obtain the Tfidf matrix for the top 1000 terms\n",
    "vectorizer = TfidfVectorizer(stop_words='english', max_features=1000, max_df=.5, smooth_idf=True)\n",
    "tf_idf = vectorizer.fit_transform(large_flights.probable_cause)\n",
    "terms = vectorizer.get_feature_names()\n",
    "\n",
    "# identify similar documents through SVD\n",
    "svd_model = TruncatedSVD(n_components=10, algorithm='randomized', n_iter=100) \n",
    "svd_model.fit(tf_idf)\n",
    "\n",
    "for i, comp in enumerate(svd_model.components_):\n",
    "    terms_comp = zip(terms, comp)\n",
    "    sorted_terms = sorted(terms_comp, key= lambda x:x[1], reverse=True)[:7]\n",
    "    print(\"Topic \"+str(i)+\": \")\n",
    "    print([t[0] for t in sorted_terms])"
   ]
  },
  {
   "cell_type": "markdown",
   "metadata": {},
   "source": [
    "> Large flight probable causes emphasize turbulence, inadequate, and personnel"
   ]
  },
  {
   "cell_type": "code",
   "execution_count": 24,
   "metadata": {},
   "outputs": [
    {
     "name": "stdout",
     "output_type": "stream",
     "text": [
      "Topic 0: \n",
      "['landing', 'control', 'maintain', 'loss', 'engine', 'power', 'directional']\n",
      "Topic 1: \n",
      "['engine', 'power', 'undetermined', 'reasons', 'loss', 'fuel', 'forced']\n",
      "Topic 2: \n",
      "['undetermined', 'reasons', 'control', 'directional', 'maintain', 'loss', 'roll']\n",
      "Topic 3: \n",
      "['landing', 'flare', 'improper', 'bounced', 'gear', 'hard', 'recovery']\n",
      "Topic 4: \n",
      "['fuel', 'directional', 'control', 'exhaustion', 'maintain', 'starvation', 'roll']\n",
      "Topic 5: \n",
      "['conditions', 'wind', 'compensation', 'crosswind', 'inadequate', 'gusty', 'factor']\n",
      "Topic 6: \n",
      "['terrain', 'forced', 'suitable', 'lack', 'unsuitable', 'landing', 'factor']\n",
      "Topic 7: \n",
      "['wind', 'airspeed', 'compensation', 'stall', 'crosswind', 'factor', 'inadvertent']\n",
      "Topic 8: \n",
      "['carburetor', 'engine', 'loss', 'power', 'improper', 'icing', 'heat']\n",
      "Topic 9: \n",
      "['takeoff', 'runway', 'airplane', 'gear', 'resulted', 'collision', 'roll']\n"
     ]
    }
   ],
   "source": [
    "# obtain the Tfidf matrix for the top 1000 terms\n",
    "vectorizer = TfidfVectorizer(stop_words='english', max_features=1000, max_df=.5, smooth_idf=True)\n",
    "tf_idf = vectorizer.fit_transform(small_flights.probable_cause)\n",
    "terms = vectorizer.get_feature_names()\n",
    "\n",
    "# identify similar documents through SVD\n",
    "svd_model = TruncatedSVD(n_components=10, algorithm='randomized', n_iter=100)\n",
    "svd_model.fit(tf_idf)\n",
    "\n",
    "for i, comp in enumerate(svd_model.components_):\n",
    "    terms_comp = zip(terms, comp)\n",
    "    sorted_terms = sorted(terms_comp, key= lambda x:x[1], reverse=True)[:7]\n",
    "    print(\"Topic \"+str(i)+\": \")\n",
    "    print([t[0] for t in sorted_terms])"
   ]
  },
  {
   "cell_type": "markdown",
   "metadata": {},
   "source": [
    "> Small flight probable causes emphasize control, power, and terrain"
   ]
  },
  {
   "cell_type": "markdown",
   "metadata": {},
   "source": [
    "# 4. Most commonly used words over time\n",
    "In the NTSB narratives, word usage may change over time. These cells capture attempts to visualize changes in the most popular words by year."
   ]
  },
  {
   "cell_type": "code",
   "execution_count": 25,
   "metadata": {},
   "outputs": [
    {
     "data": {
      "text/html": [
       "<div>\n",
       "<style scoped>\n",
       "    .dataframe tbody tr th:only-of-type {\n",
       "        vertical-align: middle;\n",
       "    }\n",
       "\n",
       "    .dataframe tbody tr th {\n",
       "        vertical-align: top;\n",
       "    }\n",
       "\n",
       "    .dataframe thead th {\n",
       "        text-align: right;\n",
       "    }\n",
       "</style>\n",
       "<table border=\"1\" class=\"dataframe\">\n",
       "  <thead>\n",
       "    <tr style=\"text-align: right;\">\n",
       "      <th></th>\n",
       "      <th>EventDate</th>\n",
       "      <th>narrative</th>\n",
       "      <th>probable_cause</th>\n",
       "    </tr>\n",
       "    <tr>\n",
       "      <th>EventDate</th>\n",
       "      <th></th>\n",
       "      <th></th>\n",
       "      <th></th>\n",
       "    </tr>\n",
       "  </thead>\n",
       "  <tbody>\n",
       "    <tr>\n",
       "      <th>2015-09-01</th>\n",
       "      <td>2015-09-01</td>\n",
       "      <td></td>\n",
       "      <td></td>\n",
       "    </tr>\n",
       "    <tr>\n",
       "      <th>2015-08-31</th>\n",
       "      <td>2015-08-31</td>\n",
       "      <td>on august   about  central daylight time a ces...</td>\n",
       "      <td></td>\n",
       "    </tr>\n",
       "    <tr>\n",
       "      <th>2015-08-30</th>\n",
       "      <td>2015-08-30</td>\n",
       "      <td></td>\n",
       "      <td></td>\n",
       "    </tr>\n",
       "    <tr>\n",
       "      <th>2015-08-30</th>\n",
       "      <td>2015-08-30</td>\n",
       "      <td></td>\n",
       "      <td></td>\n",
       "    </tr>\n",
       "    <tr>\n",
       "      <th>2015-08-29</th>\n",
       "      <td>2015-08-29</td>\n",
       "      <td></td>\n",
       "      <td></td>\n",
       "    </tr>\n",
       "  </tbody>\n",
       "</table>\n",
       "</div>"
      ],
      "text/plain": [
       "            EventDate                                          narrative probable_cause\n",
       "EventDate                                                                              \n",
       "2015-09-01 2015-09-01                                                                  \n",
       "2015-08-31 2015-08-31  on august   about  central daylight time a ces...               \n",
       "2015-08-30 2015-08-30                                                                  \n",
       "2015-08-30 2015-08-30                                                                  \n",
       "2015-08-29 2015-08-29                                                                  "
      ]
     },
     "execution_count": 25,
     "metadata": {},
     "output_type": "execute_result"
    }
   ],
   "source": [
    "ntsb = all_data.copy()\n",
    "ntsb = ntsb[['EventDate','narrative','probable_cause']]\n",
    "\n",
    "# set a datetime index, and drop entries without an EventDate\n",
    "ntsb['EventDate'] = pd.to_datetime(ntsb['EventDate'], format=\"%m/%d/%Y\", errors='coerce')\n",
    "ntsb.dropna(subset=['EventDate'], inplace=True)\n",
    "ntsb.index = ntsb['EventDate']\n",
    "\n",
    "# Remove punctuation and digits from the narratives\n",
    "ntsb.narrative = ntsb.narrative.apply(lambda x: x.lower())\n",
    "ntsb.narrative = ntsb.narrative.apply(lambda x: x.translate(str.maketrans('','',string.punctuation)))\n",
    "ntsb.narrative = ntsb.narrative.apply(lambda x: x.translate(str.maketrans('','',string.digits)))\n",
    "\n",
    "ntsb.head()"
   ]
  },
  {
   "cell_type": "code",
   "execution_count": 26,
   "metadata": {},
   "outputs": [
    {
     "name": "stderr",
     "output_type": "stream",
     "text": [
      "[nltk_data] Downloading package punkt to\n",
      "[nltk_data]     C:\\Users\\Shreye\\AppData\\Roaming\\nltk_data...\n",
      "[nltk_data]   Package punkt is already up-to-date!\n"
     ]
    }
   ],
   "source": [
    "# Identify frequency of words that aren't stopwords\n",
    "nltk.download('punkt')\n",
    "txt = ntsb.narrative.str.cat(sep=' ')\n",
    "words = nltk.tokenize.word_tokenize(txt)\n",
    "stopwords = nltk.corpus.stopwords.words('english')\n",
    "word_dist = nltk.FreqDist(w for w in words if w not in stopwords)"
   ]
  },
  {
   "cell_type": "code",
   "execution_count": 27,
   "metadata": {},
   "outputs": [
    {
     "data": {
      "text/plain": [
       "(33, 2)"
      ]
     },
     "execution_count": 27,
     "metadata": {},
     "output_type": "execute_result"
    }
   ],
   "source": [
    "# Concatenate all of the narratives within a year before counting words -- this takes some time!\n",
    "ntsb['year'] = ntsb.EventDate.dt.year\n",
    "ntsb['annual_narratives'] = ntsb.groupby(ntsb.EventDate.dt.year)['narrative'].transform(lambda x: ' '.join(x)) # concatenate all the narratives from a year into a single cell\n",
    "ntsb_annual = ntsb[['year', 'annual_narratives']].drop_duplicates() # get a unique list of narratives by year\n",
    "\n",
    "# Focus analysis on complete year data from 1982 - 2014\n",
    "ntsb_annual = ntsb_annual[(ntsb_annual.index >= pd.to_datetime('1982-01-01'))&(ntsb_annual.index < pd.to_datetime('2015-01-01'))]\n",
    "ntsb_annual.reset_index(inplace=True, drop=True)\n",
    "ntsb_annual.shape"
   ]
  },
  {
   "cell_type": "code",
   "execution_count": 28,
   "metadata": {},
   "outputs": [
    {
     "data": {
      "text/plain": [
       "0            pilot\n",
       "1         airplane\n",
       "2         aircraft\n",
       "3         accident\n",
       "4    investigation\n",
       "5             data\n",
       "6             used\n",
       "7             ntsb\n",
       "8          support\n",
       "9          various\n",
       "Name: 0, dtype: object"
      ]
     },
     "execution_count": 28,
     "metadata": {},
     "output_type": "execute_result"
    }
   ],
   "source": [
    "# The most common words can be plotted over time\n",
    "most_common_words = pd.DataFrame(word_dist.most_common(10))[0] \n",
    "most_common_words"
   ]
  },
  {
   "cell_type": "code",
   "execution_count": 29,
   "metadata": {},
   "outputs": [],
   "source": [
    "# count the occurances of common stopwords by year\n",
    "for i in range(len(ntsb_annual)):\n",
    "    for word in most_common_words:\n",
    "        ntsb_annual.at[i, word] = ntsb_annual.iloc[i]['annual_narratives'].count(word)"
   ]
  },
  {
   "cell_type": "code",
   "execution_count": 30,
   "metadata": {},
   "outputs": [
    {
     "data": {
      "text/plain": [
       "<matplotlib.axes._subplots.AxesSubplot at 0x1f771db9f28>"
      ]
     },
     "execution_count": 30,
     "metadata": {},
     "output_type": "execute_result"
    },
    {
     "data": {
      "image/png": "[encoded data removed]",
      "text/plain": [
       "<Figure size 432x288 with 1 Axes>"
      ]
     },
     "metadata": {
      "needs_background": "light"
     },
     "output_type": "display_data"
    }
   ],
   "source": [
    "ntsb_annual[most_common_words].plot()"
   ]
  },
  {
   "cell_type": "code",
   "execution_count": 31,
   "metadata": {},
   "outputs": [
    {
     "data": {
      "text/plain": [
       "<matplotlib.axes._subplots.AxesSubplot at 0x1f715e67240>"
      ]
     },
     "execution_count": 31,
     "metadata": {},
     "output_type": "execute_result"
    },
    {
     "data": {
      "image/png": "[encoded data removed]",
      "text/plain": [
       "<Figure size 432x288 with 1 Axes>"
      ]
     },
     "metadata": {
      "needs_background": "light"
     },
     "output_type": "display_data"
    }
   ],
   "source": [
    "ntsb_annual[most_common_words[1:3]].plot() # pulling out words that show an interesting pattern"
   ]
  },
  {
   "cell_type": "markdown",
   "metadata": {},
   "source": [
    "# 5. Modeling fatal vs non-fatal accidents\n",
    "A logistic regression model can help explain factors that influence fatal aircraft accidents. To prepare for a regression analysis, the raw data needs to be cleaned to extract quantiative features. This is done manually for columns of interest: \n",
    "* Number of engines (numeric)\n",
    "* Day of week (weekend/weekday)\n",
    "* Weather condition (IMC/non-IMC) -- instrumental meteorological conditions implies poor visibility\n",
    "* Purpose of flight (Personal/non-personal)\n",
    "* Broad phase of flight (Landing/Takeoff/Standing/Cruising/reference) -- reference level is maneuvering, go-arounds, and unknowns"
   ]
  },
  {
   "cell_type": "code",
   "execution_count": 32,
   "metadata": {},
   "outputs": [],
   "source": [
    "ntsb = all_data.copy()"
   ]
  },
  {
   "cell_type": "code",
   "execution_count": 33,
   "metadata": {},
   "outputs": [],
   "source": [
    "ntsb['date'] = pd.to_datetime(ntsb['EventDate'], format=\"%m/%d/%Y\", errors='coerce')"
   ]
  },
  {
   "cell_type": "code",
   "execution_count": 34,
   "metadata": {},
   "outputs": [],
   "source": [
    "# Remove parentheses and digits from the InjurySeverity column to get a single level for \"Fatal\" incidents\n",
    "ntsb.InjurySeverity = ntsb.InjurySeverity.apply(lambda x: x.translate(str.maketrans('','',string.punctuation)))\n",
    "ntsb.InjurySeverity = ntsb.InjurySeverity.apply(lambda x: x.translate(str.maketrans('','',string.digits)))"
   ]
  },
  {
   "cell_type": "code",
   "execution_count": 35,
   "metadata": {},
   "outputs": [],
   "source": [
    "ntsb['engines'] = pd.to_numeric(ntsb['NumberOfEngines'], errors='coerce')\n",
    "ntsb['engines'].fillna(ntsb.engines.mean(), inplace=True)"
   ]
  },
  {
   "cell_type": "code",
   "execution_count": 36,
   "metadata": {},
   "outputs": [],
   "source": [
    "def fatal(data):\n",
    "    if data['InjurySeverity'] == 'Fatal':\n",
    "        return 1\n",
    "    else:\n",
    "        return 0"
   ]
  },
  {
   "cell_type": "code",
   "execution_count": 37,
   "metadata": {},
   "outputs": [],
   "source": [
    "def weekend(data):\n",
    "    if data['date'].weekday() < 5:\n",
    "        return 0\n",
    "    else:\n",
    "        return 1"
   ]
  },
  {
   "cell_type": "code",
   "execution_count": 38,
   "metadata": {},
   "outputs": [],
   "source": [
    "def imc(data):\n",
    "    if data['WeatherCondition'] == 'IMC':\n",
    "        return 1\n",
    "    else:\n",
    "        return 0"
   ]
  },
  {
   "cell_type": "code",
   "execution_count": 39,
   "metadata": {},
   "outputs": [],
   "source": [
    "def personal(data):\n",
    "    if data['PurposeOfFlight'] == 'Personal':\n",
    "        return 1\n",
    "    else:\n",
    "        return 0"
   ]
  },
  {
   "cell_type": "code",
   "execution_count": 40,
   "metadata": {},
   "outputs": [
    {
     "data": {
      "text/plain": [
       "array(['', 'LANDING', 'STANDING', 'TAKEOFF', 'APPROACH', 'GO-AROUND',\n",
       "       'MANEUVERING', 'UNKNOWN', 'CRUISE', 'CLIMB', 'DESCENT', 'OTHER',\n",
       "       'TAXI'], dtype=object)"
      ]
     },
     "execution_count": 40,
     "metadata": {},
     "output_type": "execute_result"
    }
   ],
   "source": [
    "all_data.BroadPhaseOfFlight.unique()"
   ]
  },
  {
   "cell_type": "code",
   "execution_count": 41,
   "metadata": {},
   "outputs": [],
   "source": [
    "def landing(data):\n",
    "    if data['BroadPhaseOfFlight'] == 'LANDING':\n",
    "        return 1\n",
    "    elif data['BroadPhaseOfFlight'] == 'APPROACH':\n",
    "        return 1\n",
    "    elif data['BroadPhaseOfFlight'] == 'DESCENT':\n",
    "        return 1\n",
    "    else:\n",
    "        return 0\n",
    "\n",
    "def takeoff(data):\n",
    "    if data['BroadPhaseOfFlight'] == 'TAKEOFF':\n",
    "        return 1\n",
    "    elif data['BroadPhaseOfFlight'] == 'CLIMB':\n",
    "        return 1\n",
    "    elif data['BroadPhaseOfFlight'] == 'TAXI':\n",
    "        return 1\n",
    "    else:\n",
    "        return 0\n",
    "\n",
    "def standing(data):\n",
    "    if data['BroadPhaseOfFlight'] == 'STANDING':\n",
    "        return 1\n",
    "    else:\n",
    "        return 0\n",
    "    \n",
    "def cruising(data):\n",
    "    if data['BroadPhaseOfFlight'] == 'CRUISE':\n",
    "        return 1\n",
    "    else:\n",
    "        return 0"
   ]
  },
  {
   "cell_type": "code",
   "execution_count": 42,
   "metadata": {},
   "outputs": [
    {
     "data": {
      "text/html": [
       "<div>\n",
       "<style scoped>\n",
       "    .dataframe tbody tr th:only-of-type {\n",
       "        vertical-align: middle;\n",
       "    }\n",
       "\n",
       "    .dataframe tbody tr th {\n",
       "        vertical-align: top;\n",
       "    }\n",
       "\n",
       "    .dataframe thead th {\n",
       "        text-align: right;\n",
       "    }\n",
       "</style>\n",
       "<table border=\"1\" class=\"dataframe\">\n",
       "  <thead>\n",
       "    <tr style=\"text-align: right;\">\n",
       "      <th></th>\n",
       "      <th>fatal</th>\n",
       "      <th>engines</th>\n",
       "      <th>personal</th>\n",
       "      <th>weekend</th>\n",
       "      <th>imc</th>\n",
       "      <th>landing</th>\n",
       "      <th>takeoff</th>\n",
       "      <th>standing</th>\n",
       "      <th>cruising</th>\n",
       "    </tr>\n",
       "  </thead>\n",
       "  <tbody>\n",
       "    <tr>\n",
       "      <th>count</th>\n",
       "      <td>77257.000000</td>\n",
       "      <td>77257.000000</td>\n",
       "      <td>77257.000000</td>\n",
       "      <td>77257.000000</td>\n",
       "      <td>77257.000000</td>\n",
       "      <td>77257.000000</td>\n",
       "      <td>77257.000000</td>\n",
       "      <td>77257.000000</td>\n",
       "      <td>77257.000000</td>\n",
       "    </tr>\n",
       "    <tr>\n",
       "      <th>mean</th>\n",
       "      <td>0.199451</td>\n",
       "      <td>1.149095</td>\n",
       "      <td>0.561244</td>\n",
       "      <td>0.364122</td>\n",
       "      <td>0.072226</td>\n",
       "      <td>0.365210</td>\n",
       "      <td>0.248845</td>\n",
       "      <td>0.015054</td>\n",
       "      <td>0.137166</td>\n",
       "    </tr>\n",
       "    <tr>\n",
       "      <th>std</th>\n",
       "      <td>0.399590</td>\n",
       "      <td>0.451313</td>\n",
       "      <td>0.496238</td>\n",
       "      <td>0.481186</td>\n",
       "      <td>0.258864</td>\n",
       "      <td>0.481492</td>\n",
       "      <td>0.432346</td>\n",
       "      <td>0.121767</td>\n",
       "      <td>0.344024</td>\n",
       "    </tr>\n",
       "    <tr>\n",
       "      <th>min</th>\n",
       "      <td>0.000000</td>\n",
       "      <td>0.000000</td>\n",
       "      <td>0.000000</td>\n",
       "      <td>0.000000</td>\n",
       "      <td>0.000000</td>\n",
       "      <td>0.000000</td>\n",
       "      <td>0.000000</td>\n",
       "      <td>0.000000</td>\n",
       "      <td>0.000000</td>\n",
       "    </tr>\n",
       "    <tr>\n",
       "      <th>25%</th>\n",
       "      <td>0.000000</td>\n",
       "      <td>1.000000</td>\n",
       "      <td>0.000000</td>\n",
       "      <td>0.000000</td>\n",
       "      <td>0.000000</td>\n",
       "      <td>0.000000</td>\n",
       "      <td>0.000000</td>\n",
       "      <td>0.000000</td>\n",
       "      <td>0.000000</td>\n",
       "    </tr>\n",
       "    <tr>\n",
       "      <th>50%</th>\n",
       "      <td>0.000000</td>\n",
       "      <td>1.000000</td>\n",
       "      <td>1.000000</td>\n",
       "      <td>0.000000</td>\n",
       "      <td>0.000000</td>\n",
       "      <td>0.000000</td>\n",
       "      <td>0.000000</td>\n",
       "      <td>0.000000</td>\n",
       "      <td>0.000000</td>\n",
       "    </tr>\n",
       "    <tr>\n",
       "      <th>75%</th>\n",
       "      <td>0.000000</td>\n",
       "      <td>1.000000</td>\n",
       "      <td>1.000000</td>\n",
       "      <td>1.000000</td>\n",
       "      <td>0.000000</td>\n",
       "      <td>1.000000</td>\n",
       "      <td>0.000000</td>\n",
       "      <td>0.000000</td>\n",
       "      <td>0.000000</td>\n",
       "    </tr>\n",
       "    <tr>\n",
       "      <th>max</th>\n",
       "      <td>1.000000</td>\n",
       "      <td>24.000000</td>\n",
       "      <td>1.000000</td>\n",
       "      <td>1.000000</td>\n",
       "      <td>1.000000</td>\n",
       "      <td>1.000000</td>\n",
       "      <td>1.000000</td>\n",
       "      <td>1.000000</td>\n",
       "      <td>1.000000</td>\n",
       "    </tr>\n",
       "  </tbody>\n",
       "</table>\n",
       "</div>"
      ],
      "text/plain": [
       "              fatal       engines      personal       weekend           imc       landing       takeoff      standing      cruising\n",
       "count  77257.000000  77257.000000  77257.000000  77257.000000  77257.000000  77257.000000  77257.000000  77257.000000  77257.000000\n",
       "mean       0.199451      1.149095      0.561244      0.364122      0.072226      0.365210      0.248845      0.015054      0.137166\n",
       "std        0.399590      0.451313      0.496238      0.481186      0.258864      0.481492      0.432346      0.121767      0.344024\n",
       "min        0.000000      0.000000      0.000000      0.000000      0.000000      0.000000      0.000000      0.000000      0.000000\n",
       "25%        0.000000      1.000000      0.000000      0.000000      0.000000      0.000000      0.000000      0.000000      0.000000\n",
       "50%        0.000000      1.000000      1.000000      0.000000      0.000000      0.000000      0.000000      0.000000      0.000000\n",
       "75%        0.000000      1.000000      1.000000      1.000000      0.000000      1.000000      0.000000      0.000000      0.000000\n",
       "max        1.000000     24.000000      1.000000      1.000000      1.000000      1.000000      1.000000      1.000000      1.000000"
      ]
     },
     "execution_count": 42,
     "metadata": {},
     "output_type": "execute_result"
    }
   ],
   "source": [
    "ntsb['fatal'] = ntsb.apply(fatal, axis=1)\n",
    "ntsb['weekend'] = ntsb.apply(weekend, axis=1)\n",
    "ntsb['imc'] = ntsb.apply(imc, axis=1)\n",
    "ntsb['landing'] = ntsb.apply(landing, axis=1)\n",
    "ntsb['takeoff'] = ntsb.apply(takeoff, axis=1)\n",
    "ntsb['standing'] = ntsb.apply(standing, axis=1)\n",
    "ntsb['cruising'] = ntsb.apply(cruising, axis=1)\n",
    "ntsb['personal'] = ntsb.apply(personal, axis=1)\n",
    "\n",
    "ntsb_reg = ntsb[['fatal', 'engines', 'personal', 'weekend', 'imc', 'landing', 'takeoff', 'standing', 'cruising']]\n",
    "ntsb_reg.describe()"
   ]
  },
  {
   "cell_type": "code",
   "execution_count": 43,
   "metadata": {},
   "outputs": [
    {
     "name": "stdout",
     "output_type": "stream",
     "text": [
      "Optimization terminated successfully.\n",
      "         Current function value: 0.436682\n",
      "         Iterations 6\n"
     ]
    }
   ],
   "source": [
    "train_cols = ntsb_reg.columns[1:]\n",
    "\n",
    "logit = sm.Logit(ntsb_reg['fatal'], ntsb_reg[train_cols])\n",
    "result = logit.fit()"
   ]
  },
  {
   "cell_type": "code",
   "execution_count": 44,
   "metadata": {},
   "outputs": [
    {
     "data": {
      "text/html": [
       "<table class=\"simpletable\">\n",
       "<caption>Logit Regression Results</caption>\n",
       "<tr>\n",
       "  <th>Dep. Variable:</th>       <td>fatal</td>      <th>  No. Observations:  </th>  <td> 77257</td> \n",
       "</tr>\n",
       "<tr>\n",
       "  <th>Model:</th>               <td>Logit</td>      <th>  Df Residuals:      </th>  <td> 77249</td> \n",
       "</tr>\n",
       "<tr>\n",
       "  <th>Method:</th>               <td>MLE</td>       <th>  Df Model:          </th>  <td>     7</td> \n",
       "</tr>\n",
       "<tr>\n",
       "  <th>Date:</th>          <td>Wed, 15 May 2019</td> <th>  Pseudo R-squ.:     </th>  <td>0.1260</td> \n",
       "</tr>\n",
       "<tr>\n",
       "  <th>Time:</th>              <td>14:44:38</td>     <th>  Log-Likelihood:    </th> <td> -33737.</td>\n",
       "</tr>\n",
       "<tr>\n",
       "  <th>converged:</th>           <td>True</td>       <th>  LL-Null:           </th> <td> -38601.</td>\n",
       "</tr>\n",
       "<tr>\n",
       "  <th> </th>                      <td> </td>        <th>  LLR p-value:       </th>  <td> 0.000</td> \n",
       "</tr>\n",
       "</table>\n",
       "<table class=\"simpletable\">\n",
       "<tr>\n",
       "      <td></td>        <th>coef</th>     <th>std err</th>      <th>z</th>      <th>P>|z|</th>  <th>[0.025</th>    <th>0.975]</th>  \n",
       "</tr>\n",
       "<tr>\n",
       "  <th>engines</th>  <td>   -0.4291</td> <td>    0.014</td> <td>  -31.193</td> <td> 0.000</td> <td>   -0.456</td> <td>   -0.402</td>\n",
       "</tr>\n",
       "<tr>\n",
       "  <th>personal</th> <td>    0.2255</td> <td>    0.019</td> <td>   11.770</td> <td> 0.000</td> <td>    0.188</td> <td>    0.263</td>\n",
       "</tr>\n",
       "<tr>\n",
       "  <th>weekend</th>  <td>   -0.1107</td> <td>    0.020</td> <td>   -5.459</td> <td> 0.000</td> <td>   -0.150</td> <td>   -0.071</td>\n",
       "</tr>\n",
       "<tr>\n",
       "  <th>imc</th>      <td>    2.1052</td> <td>    0.032</td> <td>   64.780</td> <td> 0.000</td> <td>    2.042</td> <td>    2.169</td>\n",
       "</tr>\n",
       "<tr>\n",
       "  <th>landing</th>  <td>   -2.1019</td> <td>    0.026</td> <td>  -79.890</td> <td> 0.000</td> <td>   -2.153</td> <td>   -2.050</td>\n",
       "</tr>\n",
       "<tr>\n",
       "  <th>takeoff</th>  <td>   -1.4890</td> <td>    0.026</td> <td>  -57.315</td> <td> 0.000</td> <td>   -1.540</td> <td>   -1.438</td>\n",
       "</tr>\n",
       "<tr>\n",
       "  <th>standing</th> <td>   -1.7809</td> <td>    0.100</td> <td>  -17.895</td> <td> 0.000</td> <td>   -1.976</td> <td>   -1.586</td>\n",
       "</tr>\n",
       "<tr>\n",
       "  <th>cruising</th> <td>   -1.0158</td> <td>    0.029</td> <td>  -35.344</td> <td> 0.000</td> <td>   -1.072</td> <td>   -0.960</td>\n",
       "</tr>\n",
       "</table>"
      ],
      "text/plain": [
       "<class 'statsmodels.iolib.summary.Summary'>\n",
       "\"\"\"\n",
       "                           Logit Regression Results                           \n",
       "==============================================================================\n",
       "Dep. Variable:                  fatal   No. Observations:                77257\n",
       "Model:                          Logit   Df Residuals:                    77249\n",
       "Method:                           MLE   Df Model:                            7\n",
       "Date:                Wed, 15 May 2019   Pseudo R-squ.:                  0.1260\n",
       "Time:                        14:44:38   Log-Likelihood:                -33737.\n",
       "converged:                       True   LL-Null:                       -38601.\n",
       "                                        LLR p-value:                     0.000\n",
       "==============================================================================\n",
       "                 coef    std err          z      P>|z|      [0.025      0.975]\n",
       "------------------------------------------------------------------------------\n",
       "engines       -0.4291      0.014    -31.193      0.000      -0.456      -0.402\n",
       "personal       0.2255      0.019     11.770      0.000       0.188       0.263\n",
       "weekend       -0.1107      0.020     -5.459      0.000      -0.150      -0.071\n",
       "imc            2.1052      0.032     64.780      0.000       2.042       2.169\n",
       "landing       -2.1019      0.026    -79.890      0.000      -2.153      -2.050\n",
       "takeoff       -1.4890      0.026    -57.315      0.000      -1.540      -1.438\n",
       "standing      -1.7809      0.100    -17.895      0.000      -1.976      -1.586\n",
       "cruising      -1.0158      0.029    -35.344      0.000      -1.072      -0.960\n",
       "==============================================================================\n",
       "\"\"\""
      ]
     },
     "execution_count": 44,
     "metadata": {},
     "output_type": "execute_result"
    }
   ],
   "source": [
    "result.summary()"
   ]
  },
  {
   "cell_type": "code",
   "execution_count": 45,
   "metadata": {},
   "outputs": [
    {
     "data": {
      "text/plain": [
       "engines     0.651074\n",
       "personal    1.252993\n",
       "weekend     0.895194\n",
       "imc         8.209146\n",
       "landing     0.122227\n",
       "takeoff     0.225606\n",
       "standing    0.168493\n",
       "cruising    0.362098\n",
       "dtype: float64"
      ]
     },
     "execution_count": 45,
     "metadata": {},
     "output_type": "execute_result"
    }
   ],
   "source": [
    "np.exp(result.params) # odds ratios"
   ]
  },
  {
   "cell_type": "markdown",
   "metadata": {},
   "source": [
    "> The odds of a fatal accident are are 8.21 greater in IMC weather conditions than VMC or unknown weather"
   ]
  },
  {
   "cell_type": "code",
   "execution_count": 46,
   "metadata": {},
   "outputs": [
    {
     "data": {
      "text/plain": [
       "engines     1.535923\n",
       "personal    0.798089\n",
       "weekend     1.117077\n",
       "imc         0.121815\n",
       "landing     8.181512\n",
       "takeoff     4.432498\n",
       "standing    5.934960\n",
       "cruising    2.761681\n",
       "dtype: float64"
      ]
     },
     "execution_count": 46,
     "metadata": {},
     "output_type": "execute_result"
    }
   ],
   "source": [
    "1/np.exp(result.params) # inverse odds ratios"
   ]
  },
  {
   "cell_type": "markdown",
   "metadata": {},
   "source": [
    "> The odds of landings being fatal are 8.18 less than if an aircraft is maneuvering, in a go-around, or unknown phase of flight"
   ]
  },
  {
   "cell_type": "markdown",
   "metadata": {},
   "source": [
    "Further investigation is needed before reporting regression results -- takeoff and landing should theoretically be the most dangerous phases of flight, although is is reasonable that they are not as fatal as accidents that occur when a plane is maneuvering or when phase of flight is unknown. "
   ]
  },
  {
   "cell_type": "code",
   "execution_count": null,
   "metadata": {},
   "outputs": [],
   "source": []
  },
  {
   "cell_type": "code",
   "execution_count": null,
   "metadata": {},
   "outputs": [],
   "source": []
  }
 ],
 "metadata": {
  "kernelspec": {
   "display_name": "Python 3",
   "language": "python",
   "name": "python3"
  },
  "language_info": {
   "codemirror_mode": {
    "name": "ipython",
    "version": 3
   },
   "file_extension": ".py",
   "mimetype": "text/x-python",
   "name": "python",
   "nbconvert_exporter": "python",
   "pygments_lexer": "ipython3",
   "version": "3.7.3"
  }
 },
 "nbformat": 4,
 "nbformat_minor": 2
}
