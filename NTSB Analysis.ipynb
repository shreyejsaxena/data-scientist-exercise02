{
 "cells": [
  {
   "cell_type": "markdown",
   "metadata": {},
   "source": [
    "# Table of Contents\n",
    "1. Extract raw data\n",
    "2. \n",
    "3. "
   ]
  },
  {
   "cell_type": "code",
   "execution_count": 1,
   "metadata": {},
   "outputs": [],
   "source": [
    "import pandas as pd\n",
    "pd.set_option('display.max_rows', 500)\n",
    "pd.set_option('display.max_columns', 500)\n",
    "pd.set_option('display.width', 1000)\n",
    "import xml.etree.ElementTree as ET\n",
    "import json\n",
    "import os\n",
    "import string"
   ]
  },
  {
   "cell_type": "markdown",
   "metadata": {},
   "source": [
    "## 1. Extract raw data\n",
    "Prepare a pandas dataframe containing all of the raw data provided for the exercise "
   ]
  },
  {
   "cell_type": "code",
   "execution_count": 2,
   "metadata": {},
   "outputs": [],
   "source": [
    "data_path = 'C:\\\\Users\\\\Shreye\\\\Documents\\\\data-scientist-exercise02\\\\data\\\\'"
   ]
  },
  {
   "cell_type": "code",
   "execution_count": 3,
   "metadata": {},
   "outputs": [
    {
     "data": {
      "text/plain": [
       "(77257, 31)"
      ]
     },
     "execution_count": 3,
     "metadata": {},
     "output_type": "execute_result"
    }
   ],
   "source": [
    "# Load XML file into dataframe\n",
    "# https://stackoverflow.com/questions/41795198/more-efficient-conversion-of-xml-file-into-dataframe.\n",
    "etree = ET.parse(data_path + 'AviationData.xml') \n",
    "data = []\n",
    "for el in etree.iterfind('./*'):\n",
    "    for i in el.iterfind('*'):\n",
    "        data.append(dict(i.items()))       \n",
    "aviation = pd.DataFrame(data)\n",
    "aviation.shape"
   ]
  },
  {
   "cell_type": "code",
   "execution_count": 4,
   "metadata": {},
   "outputs": [
    {
     "data": {
      "text/plain": [
       "(76133, 3)"
      ]
     },
     "execution_count": 4,
     "metadata": {},
     "output_type": "execute_result"
    }
   ],
   "source": [
    "# Load JSON files into dataframe\n",
    "narrative = pd.DataFrame()\n",
    "all_jsons = [file for file in os.listdir(data_path) if file!='AviationData.xml'] # get a list of all of the JSON file names\n",
    "for json_name in all_jsons:\n",
    "    with open(data_path+json_name) as json_file: # read each JSON into a dataframe\n",
    "        json_content = json_file.read()\n",
    "        json_data = json.loads(json_content)\n",
    "        json_df = pd.DataFrame(json_data['data']) # the \"dataframe\" is within the 'data' field of the JSON file\n",
    "        narrative = pd.concat([narrative, json_df]) # concatenate the JSON dataframes into one\n",
    "narrative.shape"
   ]
  },
  {
   "cell_type": "code",
   "execution_count": 5,
   "metadata": {},
   "outputs": [
    {
     "name": "stdout",
     "output_type": "stream",
     "text": [
      "(77257, 33)\n"
     ]
    },
    {
     "data": {
      "text/html": [
       "<div>\n",
       "<style scoped>\n",
       "    .dataframe tbody tr th:only-of-type {\n",
       "        vertical-align: middle;\n",
       "    }\n",
       "\n",
       "    .dataframe tbody tr th {\n",
       "        vertical-align: top;\n",
       "    }\n",
       "\n",
       "    .dataframe thead th {\n",
       "        text-align: right;\n",
       "    }\n",
       "</style>\n",
       "<table border=\"1\" class=\"dataframe\">\n",
       "  <thead>\n",
       "    <tr style=\"text-align: right;\">\n",
       "      <th></th>\n",
       "      <th>AccidentNumber</th>\n",
       "      <th>AirCarrier</th>\n",
       "      <th>AircraftCategory</th>\n",
       "      <th>AircraftDamage</th>\n",
       "      <th>AirportCode</th>\n",
       "      <th>AirportName</th>\n",
       "      <th>AmateurBuilt</th>\n",
       "      <th>BroadPhaseOfFlight</th>\n",
       "      <th>Country</th>\n",
       "      <th>EngineType</th>\n",
       "      <th>EventDate</th>\n",
       "      <th>EventId</th>\n",
       "      <th>FARDescription</th>\n",
       "      <th>InjurySeverity</th>\n",
       "      <th>InvestigationType</th>\n",
       "      <th>Latitude</th>\n",
       "      <th>Location</th>\n",
       "      <th>Longitude</th>\n",
       "      <th>Make</th>\n",
       "      <th>Model</th>\n",
       "      <th>NumberOfEngines</th>\n",
       "      <th>PublicationDate</th>\n",
       "      <th>PurposeOfFlight</th>\n",
       "      <th>RegistrationNumber</th>\n",
       "      <th>ReportStatus</th>\n",
       "      <th>Schedule</th>\n",
       "      <th>TotalFatalInjuries</th>\n",
       "      <th>TotalMinorInjuries</th>\n",
       "      <th>TotalSeriousInjuries</th>\n",
       "      <th>TotalUninjured</th>\n",
       "      <th>WeatherCondition</th>\n",
       "      <th>narrative</th>\n",
       "      <th>probable_cause</th>\n",
       "    </tr>\n",
       "  </thead>\n",
       "  <tbody>\n",
       "    <tr>\n",
       "      <th>count</th>\n",
       "      <td>77257</td>\n",
       "      <td>77257</td>\n",
       "      <td>77257</td>\n",
       "      <td>77257</td>\n",
       "      <td>77257</td>\n",
       "      <td>77257</td>\n",
       "      <td>77257</td>\n",
       "      <td>77257</td>\n",
       "      <td>77257</td>\n",
       "      <td>77257</td>\n",
       "      <td>77257</td>\n",
       "      <td>77257</td>\n",
       "      <td>77257</td>\n",
       "      <td>77257</td>\n",
       "      <td>77257</td>\n",
       "      <td>77257</td>\n",
       "      <td>77257</td>\n",
       "      <td>77257</td>\n",
       "      <td>77257</td>\n",
       "      <td>77257</td>\n",
       "      <td>77257</td>\n",
       "      <td>77257</td>\n",
       "      <td>77257</td>\n",
       "      <td>77257</td>\n",
       "      <td>77257</td>\n",
       "      <td>77257</td>\n",
       "      <td>77257</td>\n",
       "      <td>77257</td>\n",
       "      <td>77257</td>\n",
       "      <td>77257</td>\n",
       "      <td>77257</td>\n",
       "      <td>77257</td>\n",
       "      <td>77257</td>\n",
       "    </tr>\n",
       "    <tr>\n",
       "      <th>unique</th>\n",
       "      <td>77257</td>\n",
       "      <td>2814</td>\n",
       "      <td>13</td>\n",
       "      <td>4</td>\n",
       "      <td>9489</td>\n",
       "      <td>22284</td>\n",
       "      <td>3</td>\n",
       "      <td>13</td>\n",
       "      <td>174</td>\n",
       "      <td>15</td>\n",
       "      <td>12180</td>\n",
       "      <td>76133</td>\n",
       "      <td>17</td>\n",
       "      <td>120</td>\n",
       "      <td>2</td>\n",
       "      <td>16343</td>\n",
       "      <td>24702</td>\n",
       "      <td>17471</td>\n",
       "      <td>7204</td>\n",
       "      <td>11029</td>\n",
       "      <td>8</td>\n",
       "      <td>3403</td>\n",
       "      <td>23</td>\n",
       "      <td>67493</td>\n",
       "      <td>4</td>\n",
       "      <td>4</td>\n",
       "      <td>118</td>\n",
       "      <td>63</td>\n",
       "      <td>41</td>\n",
       "      <td>364</td>\n",
       "      <td>4</td>\n",
       "      <td>75557</td>\n",
       "      <td>47435</td>\n",
       "    </tr>\n",
       "    <tr>\n",
       "      <th>top</th>\n",
       "      <td>WPR11LA263</td>\n",
       "      <td></td>\n",
       "      <td></td>\n",
       "      <td>Substantial</td>\n",
       "      <td></td>\n",
       "      <td></td>\n",
       "      <td>No</td>\n",
       "      <td>LANDING</td>\n",
       "      <td>United States</td>\n",
       "      <td>Reciprocating</td>\n",
       "      <td>05/16/1982</td>\n",
       "      <td>20100204X45658</td>\n",
       "      <td></td>\n",
       "      <td>Non-Fatal</td>\n",
       "      <td>Accident</td>\n",
       "      <td></td>\n",
       "      <td>ANCHORAGE, AK</td>\n",
       "      <td></td>\n",
       "      <td>CESSNA</td>\n",
       "      <td>152</td>\n",
       "      <td>1</td>\n",
       "      <td></td>\n",
       "      <td>Personal</td>\n",
       "      <td></td>\n",
       "      <td>Probable Cause</td>\n",
       "      <td></td>\n",
       "      <td>0</td>\n",
       "      <td>0</td>\n",
       "      <td>0</td>\n",
       "      <td>1</td>\n",
       "      <td>VMC</td>\n",
       "      <td></td>\n",
       "      <td></td>\n",
       "    </tr>\n",
       "    <tr>\n",
       "      <th>freq</th>\n",
       "      <td>1</td>\n",
       "      <td>73439</td>\n",
       "      <td>60737</td>\n",
       "      <td>55420</td>\n",
       "      <td>33780</td>\n",
       "      <td>29926</td>\n",
       "      <td>69198</td>\n",
       "      <td>18553</td>\n",
       "      <td>73076</td>\n",
       "      <td>63016</td>\n",
       "      <td>25</td>\n",
       "      <td>3</td>\n",
       "      <td>60592</td>\n",
       "      <td>58499</td>\n",
       "      <td>74207</td>\n",
       "      <td>53496</td>\n",
       "      <td>372</td>\n",
       "      <td>53505</td>\n",
       "      <td>16609</td>\n",
       "      <td>2251</td>\n",
       "      <td>61465</td>\n",
       "      <td>13188</td>\n",
       "      <td>43360</td>\n",
       "      <td>2756</td>\n",
       "      <td>72264</td>\n",
       "      <td>65878</td>\n",
       "      <td>40363</td>\n",
       "      <td>40342</td>\n",
       "      <td>42955</td>\n",
       "      <td>22029</td>\n",
       "      <td>68764</td>\n",
       "      <td>231</td>\n",
       "      <td>26754</td>\n",
       "    </tr>\n",
       "  </tbody>\n",
       "</table>\n",
       "</div>"
      ],
      "text/plain": [
       "       AccidentNumber AirCarrier AircraftCategory AircraftDamage AirportCode AirportName AmateurBuilt BroadPhaseOfFlight        Country     EngineType   EventDate         EventId FARDescription InjurySeverity InvestigationType Latitude       Location Longitude    Make  Model NumberOfEngines PublicationDate PurposeOfFlight RegistrationNumber    ReportStatus Schedule TotalFatalInjuries TotalMinorInjuries TotalSeriousInjuries TotalUninjured WeatherCondition narrative probable_cause\n",
       "count           77257      77257            77257          77257       77257       77257        77257              77257          77257          77257       77257           77257          77257          77257             77257    77257          77257     77257   77257  77257           77257           77257           77257              77257           77257    77257              77257              77257                77257          77257            77257     77257          77257\n",
       "unique          77257       2814               13              4        9489       22284            3                 13            174             15       12180           76133             17            120                 2    16343          24702     17471    7204  11029               8            3403              23              67493               4        4                118                 63                   41            364                4     75557          47435\n",
       "top        WPR11LA263                                Substantial                                   No            LANDING  United States  Reciprocating  05/16/1982  20100204X45658                     Non-Fatal          Accident           ANCHORAGE, AK            CESSNA    152               1                        Personal                     Probable Cause                           0                  0                    0              1              VMC                         \n",
       "freq                1      73439            60737          55420       33780       29926        69198              18553          73076          63016          25               3          60592          58499             74207    53496            372     53505   16609   2251           61465           13188           43360               2756           72264    65878              40363              40342                42955          22029            68764       231          26754"
      ]
     },
     "execution_count": 5,
     "metadata": {},
     "output_type": "execute_result"
    }
   ],
   "source": [
    "# Merge the dataframes on the common EventId field\n",
    "ntsb = aviation.merge(narrative, how='left')\n",
    "print(ntsb.shape)\n",
    "ntsb.describe()"
   ]
  },
  {
   "cell_type": "markdown",
   "metadata": {},
   "source": [
    "> From all accidents, the most commmon phase of flight is LANDING and the most common aircraft is a Cessna 152"
   ]
  },
  {
   "cell_type": "code",
   "execution_count": null,
   "metadata": {},
   "outputs": [],
   "source": [
    "# ntsb.replace(['Unavailable', 'UNK', 'UNKNOWN', 'Unknown', ], '', inplace=True)\n",
    "\n",
    "# ntsb.InjurySeverity = ntsb.InjurySeverity.apply(lambda x: x.translate(str.maketrans('','',string.punctuation)))\n",
    "# ntsb.InjurySeverity = ntsb.InjurySeverity.apply(lambda x: x.translate(str.maketrans('','',string.digits)))"
   ]
  },
  {
   "cell_type": "code",
   "execution_count": null,
   "metadata": {},
   "outputs": [],
   "source": []
  },
  {
   "cell_type": "code",
   "execution_count": null,
   "metadata": {},
   "outputs": [],
   "source": []
  },
  {
   "cell_type": "code",
   "execution_count": null,
   "metadata": {},
   "outputs": [],
   "source": []
  },
  {
   "cell_type": "code",
   "execution_count": null,
   "metadata": {},
   "outputs": [],
   "source": []
  }
 ],
 "metadata": {
  "kernelspec": {
   "display_name": "Python 3",
   "language": "python",
   "name": "python3"
  },
  "language_info": {
   "codemirror_mode": {
    "name": "ipython",
    "version": 3
   },
   "file_extension": ".py",
   "mimetype": "text/x-python",
   "name": "python",
   "nbconvert_exporter": "python",
   "pygments_lexer": "ipython3",
   "version": "3.7.3"
  }
 },
 "nbformat": 4,
 "nbformat_minor": 2
}
